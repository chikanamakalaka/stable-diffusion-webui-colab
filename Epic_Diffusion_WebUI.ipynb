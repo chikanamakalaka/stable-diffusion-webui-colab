{
  "cells": [
    {
      "cell_type": "markdown",
      "metadata": {
        "id": "view-in-github",
        "colab_type": "text"
      },
      "source": [
        "<a href=\"https://colab.research.google.com/github/chikanamakalaka/stable-diffusion-webui-colab/blob/main/Epic_Diffusion_WebUI.ipynb\" target=\"_parent\"><img src=\"https://colab.research.google.com/assets/colab-badge.svg\" alt=\"Open In Colab\"/></a>"
      ]
    },
    {
      "cell_type": "markdown",
      "source": [
        "# Connect to gDrive"
      ],
      "metadata": {
        "id": "elJP1wzQTDT4"
      }
    },
    {
      "cell_type": "code",
      "source": [
        "from google.colab import drive\n",
        "drive.mount('/content/gdrive')"
      ],
      "metadata": {
        "id": "tX8OgQ-aoSSQ"
      },
      "execution_count": null,
      "outputs": []
    },
    {
      "cell_type": "markdown",
      "source": [
        "# GPU\n"
      ],
      "metadata": {
        "id": "g7WEVnTx1jI8"
      }
    },
    {
      "cell_type": "code",
      "source": [
        "#@title\n",
        "!apt-get -y install -qq aria2\n",
        "%pip install -q https://github.com/camenduru/stable-diffusion-webui-colab/releases/download/0.0.16/xformers-0.0.16+814314d.d20230118-cp38-cp38-linux_x86_64.whl\n",
        "%pip install -q --pre triton\n",
        "!git clone -b v1.6 https://github.com/camenduru/stable-diffusion-webui\n",
        "!wget https://raw.githubusercontent.com/camenduru/stable-diffusion-webui-scripts/main/run_n_times.py -O /content/stable-diffusion-webui/scripts/run_n_times.py\n",
        "!git clone -b v1.6 https://github.com/camenduru/deforum-for-automatic1111-webui /content/stable-diffusion-webui/extensions/deforum-for-automatic1111-webui\n",
        "!git clone -b v1.6 https://github.com/camenduru/stable-diffusion-webui-images-browser /content/stable-diffusion-webui/extensions/stable-diffusion-webui-images-browser\n",
        "!git clone -b v1.6 https://github.com/camenduru/stable-diffusion-webui-huggingface /content/stable-diffusion-webui/extensions/stable-diffusion-webui-huggingface\n",
        "!git clone -b v1.6 https://github.com/camenduru/sd-civitai-browser /content/stable-diffusion-webui/extensions/sd-civitai-browser\n",
        "!git clone -b v1.6 https://github.com/camenduru/sd-webui-additional-networks /content/stable-diffusion-webui/extensions/sd-webui-additional-networks\n",
        "!git clone https://huggingface.co/johnslegers/epic-diffusion-v1.1  /content/stable-diffusion-webui/models/Stable-diffusion/Epic_Diffusion\n",
        "%cd /content/stable-diffusion-webui"
      ],
      "metadata": {
        "id": "TuWddiX6EUNj"
      },
      "execution_count": null,
      "outputs": []
    },
    {
      "cell_type": "markdown",
      "source": [
        "Pre-boot Edits"
      ],
      "metadata": {
        "id": "W78WqQ_8Gcoq"
      }
    },
    {
      "cell_type": "code",
      "source": [
        "!sed -i -e '''/prepare_environment()/a\\    os.system\\(f\\\"\"\"sed -i -e ''\\\"s/self.logvar\\[t\\]/self.logvar\\[t.item()\\]/g\\\"'' /content/stable-diffusion-webui/repositories/stable-diffusion-stability-ai/ldm/models/diffusion/ddpm.py\"\"\")''' /content/stable-diffusion-webui/launch.py\n",
        "!sed -i -e '''/prepare_environment()/a\\    os.system\\(f\\\"\"\"sed -i -e ''\\\"s/dict()))/dict())).cuda()/g\\\"'' /content/stable-diffusion-webui/repositories/stable-diffusion-stability-ai/ldm/util.py\"\"\")''' /content/stable-diffusion-webui/launch.py\n",
        "!sed -i '$a fastapi==0.90.0' requirements_versions.txt"
      ],
      "metadata": {
        "id": "jykGIAMKGLzT"
      },
      "execution_count": null,
      "outputs": []
    },
    {
      "cell_type": "markdown",
      "source": [
        "START"
      ],
      "metadata": {
        "id": "uMchweTpM_rB"
      }
    },
    {
      "cell_type": "code",
      "source": [
        "!python launch.py --share --xformers --enable-insecure-extension-access"
      ],
      "metadata": {
        "id": "4hPobVlpM-R5"
      },
      "execution_count": null,
      "outputs": []
    },
    {
      "cell_type": "markdown",
      "source": [
        "# CPU"
      ],
      "metadata": {
        "id": "rhoJCr171-Bc"
      }
    },
    {
      "cell_type": "code",
      "execution_count": null,
      "metadata": {
        "id": "7ESz_KClDVzV"
      },
      "outputs": [],
      "source": [
        "#@title\n",
        "!set COMMANDLINE_ARGS= --skip-torch-cuda-test --precision full --no-half --use-cpu SD GFPGAN BSRGAN ESRGAN SCUNet CodeFormer --all\n",
        "!apt-get -y install -qq aria2\n",
        "%pip install -q --pre triton\n",
        "%pip install http://download.pytorch.org/whl/cpu/torch-1.13.1%2Bcpu-cp38-cp38-linux_x86_64.whl\n",
        "%pip install http://download.pytorch.org/whl/cpu/torchvision-0.14.1%2Bcpu-cp38-cp38-linux_x86_64.whl\n",
        "%pip install http://download.pytorch.org/whl/torchtext-0.14.1-cp38-cp38-linux_x86_64.whl\n",
        "%pip install numpy\n",
        "\n",
        "!git clone -b v1.6 https://github.com/camenduru/stable-diffusion-webui\n",
        "!wget https://raw.githubusercontent.com/camenduru/stable-diffusion-webui-scripts/main/run_n_times.py -O /content/stable-diffusion-webui/scripts/run_n_times.py\n",
        "!git clone -b v1.6 https://github.com/camenduru/deforum-for-automatic1111-webui /content/stable-diffusion-webui/extensions/deforum-for-automatic1111-webui\n",
        "!git clone -b v1.6 https://github.com/camenduru/stable-diffusion-webui-images-browser /content/stable-diffusion-webui/extensions/stable-diffusion-webui-images-browser\n",
        "!git clone -b v1.6 https://github.com/camenduru/stable-diffusion-webui-huggingface /content/stable-diffusion-webui/extensions/stable-diffusion-webui-huggingface\n",
        "!git clone -b v1.6 https://github.com/camenduru/sd-civitai-browser /content/stable-diffusion-webui/extensions/sd-civitai-browser\n",
        "!git clone -b v1.6 https://github.com/camenduru/sd-webui-additional-networks /content/stable-diffusion-webui/extensions/sd-webui-additional-networks\n",
        "!git clone https://huggingface.co/johnslegers/epic-diffusion-v1.1  /content/stable-diffusion-webui/models/Stable-diffusion/Epic_Diffusion\n",
        "%cd /content/stable-diffusion-webui\n",
        "\n",
        "!sed -i -e '''/prepare_environment()/a\\    os.system\\(f\\\"\"\"sed -i -e ''\\\"s/self.logvar\\[t\\]/self.logvar\\[t.item()\\]/g\\\"'' /content/stable-diffusion-webui/repositories/stable-diffusion-stability-ai/ldm/models/diffusion/ddpm.py\"\"\")''' /content/stable-diffusion-webui/launch.py\n",
        "#!sed -i -e '''/prepare_environment()/a\\    os.system\\(f\\\"\"\"sed -i -e ''\\\"s/dict()))/dict())).cuda()/g\\\"'' /content/stable-diffusion-webui/repositories/stable-diffusion-stability-ai/ldm/util.py\"\"\")''' /content/stable-diffusion-webui/launch.py\n",
        "!sed -i '$a fastapi==0.90.0' requirements_versions.txt\n",
        "!python launch.py --share --enable-insecure-extension-access --skip-torch-cuda-test --precision full --no-half"
      ]
    },
    {
      "cell_type": "markdown",
      "source": [
        "# Utils\n"
      ],
      "metadata": {
        "id": "CRuKp2741x3j"
      }
    },
    {
      "cell_type": "code",
      "source": [
        "from google.colab import drive\n",
        "drive.mount('/content/drive')"
      ],
      "metadata": {
        "id": "Z5SZukIoTBvi"
      },
      "execution_count": null,
      "outputs": []
    },
    {
      "cell_type": "markdown",
      "source": [
        "Restart CPU"
      ],
      "metadata": {
        "id": "ud5vIlFRTW1J"
      }
    },
    {
      "cell_type": "code",
      "source": [
        "!python launch.py --share --skip-torch-cuda-test --enable-insecure-extension-access --precision full --no-half"
      ],
      "metadata": {
        "id": "oHhUv0CeBDap"
      },
      "execution_count": null,
      "outputs": []
    },
    {
      "cell_type": "markdown",
      "source": [
        "Restart GUI"
      ],
      "metadata": {
        "id": "4z_H-sA-TcGq"
      }
    },
    {
      "cell_type": "code",
      "source": [
        "!python launch.py --share --xformers --enable-insecure-extension-access"
      ],
      "metadata": {
        "id": "39G3uT26Swrw"
      },
      "execution_count": null,
      "outputs": []
    }
  ],
  "metadata": {
    "colab": {
      "provenance": [],
      "private_outputs": true,
      "include_colab_link": true
    },
    "gpuClass": "standard",
    "kernelspec": {
      "display_name": "Python 3",
      "name": "python3"
    },
    "language_info": {
      "name": "python"
    },
    "accelerator": "GPU"
  },
  "nbformat": 4,
  "nbformat_minor": 0
}